{
 "cells": [
  {
   "cell_type": "markdown",
   "id": "9b18c88f-a902-4024-8c0a-2bba569bbe30",
   "metadata": {},
   "source": [
    "# Import Libraries"
   ]
  },
  {
   "cell_type": "code",
   "execution_count": null,
   "id": "99afd95b-d226-457c-80a2-e1ec1e612d0c",
   "metadata": {},
   "outputs": [],
   "source": [
    "import numpy as np\n",
    "import pandas as pd\n",
    "import tensorflow as tf\n",
    "import matplotlib.pyplot as plt\n",
    "from tensorflow.keras.models import Sequential\n",
    "from tensorflow.keras.layers import LSTM, Dense\n",
    "from sklearn.preprocessing import MinMaxScaler\n",
    "from tensorflow.keras.callbacks import EarlyStopping\n",
    "from sklearn.metrics import r2_score"
   ]
  },
  {
   "cell_type": "code",
   "execution_count": null,
   "id": "7b512835-9f3b-4ce8-994a-64483139922a",
   "metadata": {},
   "outputs": [],
   "source": [
    "df = pd.read_csv(\"btc_historical_price.csv\")"
   ]
  },
  {
   "cell_type": "code",
   "execution_count": null,
   "id": "563b5e25-0c19-46af-aa46-ea9b7cc85933",
   "metadata": {},
   "outputs": [],
   "source": [
    "df.head()"
   ]
  },
  {
   "cell_type": "code",
   "execution_count": null,
   "id": "dddce8d2-f889-40bd-8f59-fbf81c3aaa86",
   "metadata": {},
   "outputs": [],
   "source": [
    "df.info()"
   ]
  },
  {
   "cell_type": "code",
   "execution_count": null,
   "id": "0b2fac6c-cc44-4262-8263-60219f0ed0c2",
   "metadata": {},
   "outputs": [],
   "source": [
    "df.shape"
   ]
  },
  {
   "cell_type": "code",
   "execution_count": null,
   "id": "5099effc-2350-47eb-a181-e3ad0b92eabd",
   "metadata": {},
   "outputs": [],
   "source": [
    "df[\"date\"] = pd.to_datetime(df[\"date\"])"
   ]
  },
  {
   "cell_type": "code",
   "execution_count": null,
   "id": "49dcdfaa-181d-46e2-bd03-ec7df2880e8f",
   "metadata": {},
   "outputs": [],
   "source": [
    "df.head()"
   ]
  },
  {
   "cell_type": "code",
   "execution_count": null,
   "id": "475b51dd-824e-4454-a25f-1adc981f0fa9",
   "metadata": {},
   "outputs": [],
   "source": [
    "df.set_index(\"date\", inplace=True)"
   ]
  },
  {
   "cell_type": "code",
   "execution_count": null,
   "id": "0d8e17cd-51e7-4c43-9214-eaf12e188790",
   "metadata": {},
   "outputs": [],
   "source": [
    "df.head()"
   ]
  },
  {
   "cell_type": "code",
   "execution_count": null,
   "id": "c542c07c-d06a-414e-bd26-e23293afb0e7",
   "metadata": {},
   "outputs": [],
   "source": [
    "df.plot()"
   ]
  },
  {
   "cell_type": "code",
   "execution_count": null,
   "id": "51a24e80-71ac-4ac3-a516-82438c7d5ac3",
   "metadata": {},
   "outputs": [],
   "source": [
    "prices = df[\"price\"]\n",
    "prices = np.array(prices).reshape(-1, 1)"
   ]
  },
  {
   "cell_type": "code",
   "execution_count": null,
   "id": "50a1d726-ad00-4c20-96d0-94bbefc79fc9",
   "metadata": {},
   "outputs": [],
   "source": [
    "scaler = MinMaxScaler()\n",
    "prices_scaled = scaler.fit_transform(prices)"
   ]
  },
  {
   "cell_type": "code",
   "execution_count": null,
   "id": "f61908be-2ce6-4ad3-98d8-dc7a415e7921",
   "metadata": {},
   "outputs": [],
   "source": [
    "train_size = int(len(prices_scaled) * 0.8)\n",
    "test_size = len(prices_scaled) - train_size "
   ]
  },
  {
   "cell_type": "code",
   "execution_count": null,
   "id": "d1926ab2-82c2-48e9-b63d-e1592f6f0f07",
   "metadata": {},
   "outputs": [],
   "source": [
    "print(\"train size:\", train_size)\n",
    "print(\"test size:\", test_size)"
   ]
  },
  {
   "cell_type": "code",
   "execution_count": null,
   "id": "d53fd3fe-09a4-475e-9db0-ad86bc58b805",
   "metadata": {},
   "outputs": [],
   "source": [
    "train = prices_scaled[0:train_size, :]\n",
    "test = prices_scaled[train_size:len(prices_scaled), :]"
   ]
  },
  {
   "cell_type": "code",
   "execution_count": null,
   "id": "463512e3-22d4-4057-b961-5691bc94d426",
   "metadata": {},
   "outputs": [],
   "source": [
    "def dataset(data, steps=1):\n",
    "    data_x, data_y = [], []\n",
    "    for i in range(len(data) - steps - 1):\n",
    "        a = data[i:(i + steps), 0]\n",
    "        b = data[i + steps, 0]\n",
    "        data_x.append(a)\n",
    "        data_y.append(b)\n",
    "    data_x = np.array(data_x)\n",
    "    data_y = np.array(data_y)\n",
    "    return data_x, data_y"
   ]
  },
  {
   "cell_type": "code",
   "execution_count": null,
   "id": "a9b41b2a-cb18-42ac-8842-38b661e12c47",
   "metadata": {},
   "outputs": [],
   "source": [
    "X_train, y_train = dataset(train)\n",
    "X_test, y_test = dataset(test)"
   ]
  },
  {
   "cell_type": "code",
   "execution_count": null,
   "id": "d762eb42-cd3a-40e7-8ec0-a0c3d05081b0",
   "metadata": {},
   "outputs": [],
   "source": [
    "X_train = np.reshape(X_train, (X_train.shape[0], 1, X_train.shape[1]))\n",
    "X_test = np.reshape(X_test, (X_test.shape[0], 1, X_test.shape[1]))"
   ]
  },
  {
   "cell_type": "markdown",
   "id": "ecb1bd90-6949-44d6-a626-70adc5dbb4a6",
   "metadata": {},
   "source": [
    "# Model"
   ]
  },
  {
   "cell_type": "code",
   "execution_count": null,
   "id": "b6c8276c-1060-4cfa-8ea2-5f6c3a13e5af",
   "metadata": {},
   "outputs": [],
   "source": [
    "model = Sequential()\n",
    "model.add(LSTM(4, input_shape=(1, 1)))\n",
    "model.add(Dense(1))\n",
    "model.compile(loss='mean_squared_error', optimizer='adam', metrics =[\"accuracy\"])"
   ]
  },
  {
   "cell_type": "code",
   "execution_count": null,
   "id": "159f4485-4ba0-4a8b-a182-62c9a57e69e2",
   "metadata": {},
   "outputs": [],
   "source": [
    "early_stopping = EarlyStopping(monitor=\"val_loss\", patience=3)"
   ]
  },
  {
   "cell_type": "code",
   "execution_count": null,
   "id": "3f2d0f34-30fb-4761-9282-d025d17ca03c",
   "metadata": {},
   "outputs": [],
   "source": [
    "history = model.fit(X_train, y_train, epochs=100, validation_split=0.2, callbacks=early_stopping)"
   ]
  },
  {
   "cell_type": "code",
   "execution_count": null,
   "id": "88006cb7-c6cf-4e20-8215-5155a36d1a50",
   "metadata": {},
   "outputs": [],
   "source": [
    "model.save(\"LSTM_BTC.h5\")"
   ]
  },
  {
   "cell_type": "code",
   "execution_count": null,
   "id": "11ac3f09-b6be-4fbb-90ec-3232d8efd520",
   "metadata": {},
   "outputs": [],
   "source": [
    "y_pred = model.predict(X_test)\n",
    "y_pred = scaler.inverse_transform(y_pred)\n",
    "y_test = y_test.reshape(-1, 1)\n",
    "y_test = scaler.inverse_transform(y_test)"
   ]
  },
  {
   "cell_type": "code",
   "execution_count": null,
   "id": "ed934ce4-3ae3-4633-a744-4615eb79a15d",
   "metadata": {},
   "outputs": [],
   "source": [
    "plt.figure(figsize=(16, 8))\n",
    "plt.plot(y_test, label=\"Actual\")\n",
    "plt.plot(y_pred, label=\"Predicted\")\n",
    "plt.legend()\n",
    "plt.show()"
   ]
  },
  {
   "cell_type": "code",
   "execution_count": null,
   "id": "eeeb3a8e-e518-4d69-97e8-8509f071bb83",
   "metadata": {},
   "outputs": [],
   "source": [
    "r2_score(y_test, y_pred)"
   ]
  },
  {
   "cell_type": "code",
   "execution_count": null,
   "id": "52f90313-eae4-423a-9bfc-88f09caf6db9",
   "metadata": {},
   "outputs": [],
   "source": []
  }
 ],
 "metadata": {
  "kernelspec": {
   "display_name": "Python 3 (ipykernel)",
   "language": "python",
   "name": "python3"
  },
  "language_info": {
   "codemirror_mode": {
    "name": "ipython",
    "version": 3
   },
   "file_extension": ".py",
   "mimetype": "text/x-python",
   "name": "python",
   "nbconvert_exporter": "python",
   "pygments_lexer": "ipython3",
   "version": "3.10.12"
  }
 },
 "nbformat": 4,
 "nbformat_minor": 5
}
